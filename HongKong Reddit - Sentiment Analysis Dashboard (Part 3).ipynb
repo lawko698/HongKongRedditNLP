{
 "cells": [
  {
   "cell_type": "markdown",
   "metadata": {},
   "source": [
    "# Hong Kong Reddit - Sentiment Analysis DashBoard (Part 3)"
   ]
  },
  {
   "cell_type": "code",
   "execution_count": 1,
   "metadata": {},
   "outputs": [
    {
     "name": "stderr",
     "output_type": "stream",
     "text": [
      "c:\\users\\lawko698\\documents\\projects\\lib\\site-packages\\nltk\\twitter\\__init__.py:20: UserWarning: The twython library has not been installed. Some functionality from the twitter package will not be available.\n",
      "  warnings.warn(\"The twython library has not been installed. \"\n"
     ]
    }
   ],
   "source": [
    "import json\n",
    "from nltk.sentiment.vader import SentimentIntensityAnalyzer\n",
    "import nltk\n",
    "import statistics as s\n",
    "import pandas as pd\n",
    "import re\n",
    "import plotly.plotly as py\n",
    "import plotly.graph_objs as go"
   ]
  },
  {
   "cell_type": "markdown",
   "metadata": {},
   "source": [
    "## Load the data\n",
    "\n",
    "The final data from part 1, where comments are attached to their respective posts will be used. "
   ]
  },
  {
   "cell_type": "code",
   "execution_count": 2,
   "metadata": {},
   "outputs": [],
   "source": [
    "with open('hongkong_complete.json','r') as f:\n",
    "    complete = json.load(f)"
   ]
  },
  {
   "cell_type": "code",
   "execution_count": 3,
   "metadata": {
    "scrolled": false
   },
   "outputs": [
    {
     "data": {
      "text/plain": [
       "[{'author': 'restless_vagabond',\n",
       "  'author_flair_css_class': None,\n",
       "  'author_flair_text': None,\n",
       "  'created_utc': 1276345654,\n",
       "  'domain': 'self.HongKong',\n",
       "  'full_link': 'https://www.reddit.com/r/HongKong/comments/ce8z5/anyone_up_for_the_reddit_meetup_next_saturday_196/',\n",
       "  'id': 'ce8z5',\n",
       "  'is_self': True,\n",
       "  'num_comments': 4,\n",
       "  'over_18': False,\n",
       "  'permalink': '/r/HongKong/comments/ce8z5/anyone_up_for_the_reddit_meetup_next_saturday_196/',\n",
       "  'score': 3,\n",
       "  'selftext': 'so far there are 2 people who are thinking about meeting up.  If we get a few more we can decide on a central location.  ',\n",
       "  'subreddit': 'HongKong',\n",
       "  'subreddit_id': 't5_2rbn0',\n",
       "  'thumbnail': 'self',\n",
       "  'title': 'Anyone up for the Reddit Meetup next Saturday (19/6)?',\n",
       "  'url': 'http://www.reddit.com/r/HongKong/comments/ce8z5/anyone_up_for_the_reddit_meetup_next_saturday_196/',\n",
       "  'comments': [{'author': 'braedonsl',\n",
       "    'author_flair_css_class': None,\n",
       "    'author_flair_text': None,\n",
       "    'body': \"well i've got a couple friends that might be interested in attending. but it seems like this might be a lost cause...\\n\",\n",
       "    'created_utc': 1276443744,\n",
       "    'id': 'c0s0f4v',\n",
       "    'link_id': 't3_ce8z5',\n",
       "    'parent_id': 't3_ce8z5',\n",
       "    'score': 1,\n",
       "    'subreddit': 'HongKong',\n",
       "    'subreddit_id': 't5_2rbn0'},\n",
       "   {'author': 'Mantorok',\n",
       "    'author_flair_css_class': None,\n",
       "    'author_flair_text': None,\n",
       "    'body': \"I know this is old, but I'm up for it, if you want to reschedule! It'd be nice to make some new friends.\",\n",
       "    'created_utc': 1280152356,\n",
       "    'id': 'c0v7cfh',\n",
       "    'link_id': 't3_ce8z5',\n",
       "    'parent_id': 't3_ce8z5',\n",
       "    'score': 1,\n",
       "    'subreddit': 'HongKong',\n",
       "    'subreddit_id': 't5_2rbn0'},\n",
       "   {'author': 'kreb',\n",
       "    'author_flair_css_class': None,\n",
       "    'author_flair_text': None,\n",
       "    'body': 'HELLO! My wife and I are up for it too if you want to reschedule! ',\n",
       "    'created_utc': 1280718537,\n",
       "    'id': 'c0vqywf',\n",
       "    'link_id': 't3_ce8z5',\n",
       "    'parent_id': 't3_ce8z5',\n",
       "    'score': 1,\n",
       "    'subreddit': 'HongKong',\n",
       "    'subreddit_id': 't5_2rbn0'}]}]"
      ]
     },
     "execution_count": 3,
     "metadata": {},
     "output_type": "execute_result"
    }
   ],
   "source": [
    "# data format check\n",
    "complete[1:2]"
   ]
  },
  {
   "cell_type": "markdown",
   "metadata": {},
   "source": [
    "We will implement the following json data structure to store information:"
   ]
  },
  {
   "cell_type": "raw",
   "metadata": {},
   "source": [
    "{'full_link': None,                      # Url to reddit post\n",
    " 'created_utc': None,                    # Post created date\n",
    " 'title': None,                          # Title of post\n",
    " 'selftext': None,                       # Post's description\n",
    " 'url':None,                             # User posted url/default to reddit post url if none\n",
    " 'comments':{\n",
    "    'sentiment_pos':[],                  # Array of polarity score of positive sentiment for each comments\n",
    "    'sentiment_neg':[],                  # Array of polarity score of neutral sentiment for each comments\n",
    "    'sentiment_neu':[],                  # Array of polarity score of negative sentiment for each comments\n",
    "    'sentiment_compound':[],             # Array of compound polarity score\n",
    "    'sentences':[],                      # Array of comments \n",
    "    'num_sentiment_type':[0,0,0],        # count of positive, neutral, negative sentiment comments\n",
    "    'score':[]}                          # Array of scores for each comments"
   ]
  },
  {
   "cell_type": "markdown",
   "metadata": {},
   "source": [
    "We will be using a sentiment analyzer called 'Vader' that is a parsimonious rule-based model for sentiment analysis of [social media text](https://www.aaai.org/ocs/index.php/ICWSM/ICWSM14/paper/download/8109/8122). Given how social media text is full of memes and emoticons, Vader's performance is cited to outperform individual human raters. \n",
    "\n",
    "Sentiment analyzer Vader doesn't require much text processing as it removes stop words and retains punctuations as part of its analysis. More examples can be found in this [blog](http://t-redactyl.io/blog/2017/04/using-vader-to-handle-sentiment-analysis-with-social-media-text.html) "
   ]
  },
  {
   "cell_type": "code",
   "execution_count": 4,
   "metadata": {
    "scrolled": true
   },
   "outputs": [],
   "source": [
    "# Initialize vader\n",
    "vader = SentimentIntensityAnalyzer()\n",
    "\n",
    "# Store each reddit post after sentiment analysis\n",
    "sentiment_list = []\n",
    "\n",
    "for submission in complete:\n",
    "    if 'comments' in submission:\n",
    "        temp_dict = {}\n",
    "\n",
    "        temp_dict['full_link'] = submission['full_link']\n",
    "        temp_dict['created_utc'] = submission['created_utc']\n",
    "        temp_dict['url'] = submission['url']\n",
    "        \n",
    "        if submission['title'].strip() != '':\n",
    "            result = re.sub(r\"\\n|\\r|\\t\", \"\", submission['title'])\n",
    "            temp_dict['title'] = result\n",
    "        else:\n",
    "            temp_dict['title'] = None\n",
    "            \n",
    "        if 'selftext' in submission:\n",
    "            if submission['selftext'].strip() != '': #must not be empty else error when upload to database\n",
    "                result = re.sub(r\"\\n|\\r|\\t\", \"\", submission['selftext'])\n",
    "                temp_dict['selftext'] = result\n",
    "            else:\n",
    "                temp_dict['selftext'] = None\n",
    "        else:\n",
    "            temp_dict['selftext'] = None\n",
    "\n",
    "        temp_dict['comments'] = {}\n",
    "        \n",
    "        sentiment_compound_number = []\n",
    "        sentiment_pos_number = []\n",
    "        sentiment_neg_number = []\n",
    "        sentiment_neu_number = []\n",
    "        num_sentiment_type = [0,0,0]\n",
    "        scores = []\n",
    "        sentences = []\n",
    "        \n",
    "        for sentence in submission['comments']:\n",
    "            result = re.sub(r\"\\n|\\r|\\t\", \"\", sentence['body'])\n",
    "          \n",
    "            sentences.append(result)\n",
    "            scores.append(sentence['score'])\n",
    "            ss = vader.polarity_scores(result)\n",
    "            for k in ss:\n",
    "                if k == 'neg':\n",
    "                    sentiment_neg_number.append(ss[k])\n",
    "                elif k == 'neu':\n",
    "                    sentiment_neu_number.append(ss[k])\n",
    "                elif k == 'pos':\n",
    "                    sentiment_pos_number.append(ss[k])\n",
    "                elif k == 'compound':\n",
    "                    sentiment_compound_number.append(ss[k])\n",
    "                    if ss[k] > 0.2:\n",
    "                        num_sentiment_type[0] += 1\n",
    "                    elif ss[k] > -0.2 and ss[k] < 0.2:\n",
    "                        num_sentiment_type[1] += 1\n",
    "                    elif ss[k] < -0.2:\n",
    "                        num_sentiment_type[2] += 1\n",
    "                        \n",
    "        temp_dict['comments']['sentences'] = sentences\n",
    "        temp_dict['comments']['scores'] = scores\n",
    "        temp_dict['comments']['sentiment_pos'] = sentiment_pos_number\n",
    "        temp_dict['comments']['sentiment_neu'] = sentiment_neu_number\n",
    "        temp_dict['comments']['sentiment_neg'] = sentiment_neg_number\n",
    "        temp_dict['comments']['sentiment_compound'] = sentiment_compound_number\n",
    "        temp_dict['comments']['num_sentiment_type'] = num_sentiment_type\n",
    "      \n",
    "        sentiment_list.append(temp_dict)"
   ]
  },
  {
   "cell_type": "code",
   "execution_count": 5,
   "metadata": {},
   "outputs": [
    {
     "data": {
      "text/plain": [
       "{'full_link': 'https://www.reddit.com/r/HongKong/comments/6ikhy7/唔該/',\n",
       " 'created_utc': 1498033395,\n",
       " 'url': 'https://www.reddit.com/r/HongKong/comments/6ikhy7/唔該/',\n",
       " 'title': '唔該',\n",
       " 'selftext': 'Why is there three meanings for the exact same phrase: \"唔該\"? It could mean please, thanks and excuse meand why are there two iterations of thanks: 唔該 and 多謝Sincerely, a confused child',\n",
       " 'comments': {'sentences': ['I tend to think of 唔該 as a courtesy phrase, something you say when people do you a favour.It means \"excuse me\" because it should be \"唔該借借\", which roughly translates to \"please move aside\". 多謝 Is generally reserved for gifting and wishes. It literally translates into \"many thanks\". You will never say \"多謝\" to someone holding the door open for you. Similarly, you will never say \"唔該“ to someone giving you a gift. Not that I\\'m a cantonese expert. Just giving my 2 cents. ',\n",
       "   'This is Cantonese...With different tone and word combination i can even makes 唔該 have negative meaning唔該你啦 留心d聽下人講乜野好冇 ',\n",
       "   '/r/cantonese /r/asklinguistics ',\n",
       "   '唔該 (literally \"Oh, you shan\\'t!\") for thanking immaterial favours.多謝 (literally \"Many thanks!\") for thanking material gifts.'],\n",
       "  'scores': [30, 3, 5, 9],\n",
       "  'sentiment_pos': [0.178, 0.0, 0.0, 0.0],\n",
       "  'sentiment_neu': [0.822, 0.802, 1.0, 1.0],\n",
       "  'sentiment_neg': [0.0, 0.198, 0.0, 0.0],\n",
       "  'sentiment_compound': [0.9081, -0.5719, 0.0, 0.0],\n",
       "  'num_sentiment_type': [1, 2, 1]}}"
      ]
     },
     "execution_count": 5,
     "metadata": {},
     "output_type": "execute_result"
    }
   ],
   "source": [
    "# check a random result\n",
    "sentiment_list[13931]"
   ]
  },
  {
   "cell_type": "markdown",
   "metadata": {},
   "source": [
    "## Checkpoint: Output file to csv file\n",
    "\n",
    "In the end, we found the following attributes useful for our analysis:\n",
    "- compound: overall polarity score of sentiment (-1 to 1 where a score toward -1 is negative and score toward 1 is positive)\n",
    "- num_positive: number of positive comments where compound number is greater than 0.2 \n",
    "- num_neutral: number of neutral comments where compound number is between -0.2 to 0.2\n",
    "- num_negative: number of negative comments where compound number is less than -0.2"
   ]
  },
  {
   "cell_type": "code",
   "execution_count": 6,
   "metadata": {},
   "outputs": [],
   "source": [
    "with open('sentiment.csv','w', encoding=\"utf-8\") as outfile:\n",
    "    outfile.write('{}\\t{}\\t{}\\t{}\\t{}\\t{}\\t{}\\t{}\\t{}\\n'.format('full_link','created_utc','title','url','selftext',\n",
    "                                                                  'compound','num_positive','num_neutral','num_negative'))\n",
    "    for topic in sentiment_list:\n",
    "        outfile.write('\\\"{}\\\"\\t{}\\t\\\"{}\\\"\\t\\\"{}\\\"\\t{}\\t{}\\t{}\\t{}\\t{}\\n'.format(topic['full_link'],\n",
    "                                                            topic['created_utc'],topic['title'],\n",
    "                                                            topic['url'],topic['selftext'],\n",
    "                                                            s.mean(topic['comments']['sentiment_compound']),\n",
    "                                                            topic['comments']['num_sentiment_type'][0],\n",
    "                                                            topic['comments']['num_sentiment_type'][1],\n",
    "                                                            topic['comments']['num_sentiment_type'][2]))"
   ]
  },
  {
   "cell_type": "markdown",
   "metadata": {},
   "source": [
    "## Read csv file into Pandas DataFrame"
   ]
  },
  {
   "cell_type": "code",
   "execution_count": 7,
   "metadata": {
    "scrolled": true
   },
   "outputs": [],
   "source": [
    "df = pd.read_csv('sentiment.csv', encoding=\"utf-8\", sep='\\t' , index_col=False)"
   ]
  },
  {
   "cell_type": "code",
   "execution_count": 8,
   "metadata": {},
   "outputs": [
    {
     "data": {
      "text/html": [
       "<div>\n",
       "<style scoped>\n",
       "    .dataframe tbody tr th:only-of-type {\n",
       "        vertical-align: middle;\n",
       "    }\n",
       "\n",
       "    .dataframe tbody tr th {\n",
       "        vertical-align: top;\n",
       "    }\n",
       "\n",
       "    .dataframe thead th {\n",
       "        text-align: right;\n",
       "    }\n",
       "</style>\n",
       "<table border=\"1\" class=\"dataframe\">\n",
       "  <thead>\n",
       "    <tr style=\"text-align: right;\">\n",
       "      <th></th>\n",
       "      <th>full_link</th>\n",
       "      <th>created_utc</th>\n",
       "      <th>title</th>\n",
       "      <th>url</th>\n",
       "      <th>selftext</th>\n",
       "      <th>compound</th>\n",
       "      <th>num_positive</th>\n",
       "      <th>num_neutral</th>\n",
       "      <th>num_negative</th>\n",
       "    </tr>\n",
       "  </thead>\n",
       "  <tbody>\n",
       "    <tr>\n",
       "      <th>0</th>\n",
       "      <td>https://www.reddit.com/r/HongKong/comments/ce8...</td>\n",
       "      <td>1276345654</td>\n",
       "      <td>Anyone up for the Reddit Meetup next Saturday ...</td>\n",
       "      <td>http://www.reddit.com/r/HongKong/comments/ce8z...</td>\n",
       "      <td>so far there are 2 people who are thinking abo...</td>\n",
       "      <td>0.554533</td>\n",
       "      <td>3</td>\n",
       "      <td>0</td>\n",
       "      <td>0.0</td>\n",
       "    </tr>\n",
       "    <tr>\n",
       "      <th>1</th>\n",
       "      <td>https://www.reddit.com/r/HongKong/comments/dfx...</td>\n",
       "      <td>1284894399</td>\n",
       "      <td>Any redditors in Hong Kong?</td>\n",
       "      <td>http://www.reddit.com/r/HongKong/comments/dfx9...</td>\n",
       "      <td>I am doing an internship at the US consulate f...</td>\n",
       "      <td>0.327487</td>\n",
       "      <td>13</td>\n",
       "      <td>10</td>\n",
       "      <td>1.0</td>\n",
       "    </tr>\n",
       "    <tr>\n",
       "      <th>2</th>\n",
       "      <td>https://www.reddit.com/r/HongKong/comments/di5...</td>\n",
       "      <td>1285299510</td>\n",
       "      <td>48 hour film project... anyone doing this?</td>\n",
       "      <td>http://www.48hourfilm.com/hongkong/english.php</td>\n",
       "      <td>None</td>\n",
       "      <td>0.373017</td>\n",
       "      <td>5</td>\n",
       "      <td>1</td>\n",
       "      <td>0.0</td>\n",
       "    </tr>\n",
       "    <tr>\n",
       "      <th>3</th>\n",
       "      <td>https://www.reddit.com/r/HongKong/comments/dsm...</td>\n",
       "      <td>1287372820</td>\n",
       "      <td>/r/hk, I was on YouTube when I was reminded of...</td>\n",
       "      <td>http://www.youtube.com/watch?v=5ZdEyK1rC8c</td>\n",
       "      <td>None</td>\n",
       "      <td>0.143600</td>\n",
       "      <td>1</td>\n",
       "      <td>1</td>\n",
       "      <td>1.0</td>\n",
       "    </tr>\n",
       "    <tr>\n",
       "      <th>4</th>\n",
       "      <td>https://www.reddit.com/r/HongKong/comments/dzz...</td>\n",
       "      <td>1288698370</td>\n",
       "      <td>Watch out: Predators on the Hong Kong MTR?</td>\n",
       "      <td>http://www.reddit.com/r/HongKong/comments/dzzu...</td>\n",
       "      <td>...cross posted from [/r/pics](http://www.redd...</td>\n",
       "      <td>0.472800</td>\n",
       "      <td>2</td>\n",
       "      <td>1</td>\n",
       "      <td>0.0</td>\n",
       "    </tr>\n",
       "  </tbody>\n",
       "</table>\n",
       "</div>"
      ],
      "text/plain": [
       "                                           full_link  created_utc  \\\n",
       "0  https://www.reddit.com/r/HongKong/comments/ce8...   1276345654   \n",
       "1  https://www.reddit.com/r/HongKong/comments/dfx...   1284894399   \n",
       "2  https://www.reddit.com/r/HongKong/comments/di5...   1285299510   \n",
       "3  https://www.reddit.com/r/HongKong/comments/dsm...   1287372820   \n",
       "4  https://www.reddit.com/r/HongKong/comments/dzz...   1288698370   \n",
       "\n",
       "                                               title  \\\n",
       "0  Anyone up for the Reddit Meetup next Saturday ...   \n",
       "1                        Any redditors in Hong Kong?   \n",
       "2         48 hour film project... anyone doing this?   \n",
       "3  /r/hk, I was on YouTube when I was reminded of...   \n",
       "4         Watch out: Predators on the Hong Kong MTR?   \n",
       "\n",
       "                                                 url  \\\n",
       "0  http://www.reddit.com/r/HongKong/comments/ce8z...   \n",
       "1  http://www.reddit.com/r/HongKong/comments/dfx9...   \n",
       "2     http://www.48hourfilm.com/hongkong/english.php   \n",
       "3         http://www.youtube.com/watch?v=5ZdEyK1rC8c   \n",
       "4  http://www.reddit.com/r/HongKong/comments/dzzu...   \n",
       "\n",
       "                                            selftext  compound  num_positive  \\\n",
       "0  so far there are 2 people who are thinking abo...  0.554533             3   \n",
       "1  I am doing an internship at the US consulate f...  0.327487            13   \n",
       "2                                               None  0.373017             5   \n",
       "3                                               None  0.143600             1   \n",
       "4  ...cross posted from [/r/pics](http://www.redd...  0.472800             2   \n",
       "\n",
       "   num_neutral  num_negative  \n",
       "0            0           0.0  \n",
       "1           10           1.0  \n",
       "2            1           0.0  \n",
       "3            1           1.0  \n",
       "4            1           0.0  "
      ]
     },
     "execution_count": 8,
     "metadata": {},
     "output_type": "execute_result"
    }
   ],
   "source": [
    "df.head()"
   ]
  },
  {
   "cell_type": "markdown",
   "metadata": {},
   "source": [
    "### Data Check for missing data"
   ]
  },
  {
   "cell_type": "code",
   "execution_count": 9,
   "metadata": {},
   "outputs": [
    {
     "data": {
      "text/html": [
       "<div>\n",
       "<style scoped>\n",
       "    .dataframe tbody tr th:only-of-type {\n",
       "        vertical-align: middle;\n",
       "    }\n",
       "\n",
       "    .dataframe tbody tr th {\n",
       "        vertical-align: top;\n",
       "    }\n",
       "\n",
       "    .dataframe thead th {\n",
       "        text-align: right;\n",
       "    }\n",
       "</style>\n",
       "<table border=\"1\" class=\"dataframe\">\n",
       "  <thead>\n",
       "    <tr style=\"text-align: right;\">\n",
       "      <th></th>\n",
       "      <th>full_link</th>\n",
       "      <th>created_utc</th>\n",
       "      <th>title</th>\n",
       "      <th>url</th>\n",
       "      <th>selftext</th>\n",
       "      <th>compound</th>\n",
       "      <th>num_positive</th>\n",
       "      <th>num_neutral</th>\n",
       "      <th>num_negative</th>\n",
       "    </tr>\n",
       "  </thead>\n",
       "  <tbody>\n",
       "  </tbody>\n",
       "</table>\n",
       "</div>"
      ],
      "text/plain": [
       "Empty DataFrame\n",
       "Columns: [full_link, created_utc, title, url, selftext, compound, num_positive, num_neutral, num_negative]\n",
       "Index: []"
      ]
     },
     "execution_count": 9,
     "metadata": {},
     "output_type": "execute_result"
    }
   ],
   "source": [
    "df[df['compound'].isnull()]"
   ]
  },
  {
   "cell_type": "code",
   "execution_count": 10,
   "metadata": {},
   "outputs": [
    {
     "data": {
      "text/html": [
       "<div>\n",
       "<style scoped>\n",
       "    .dataframe tbody tr th:only-of-type {\n",
       "        vertical-align: middle;\n",
       "    }\n",
       "\n",
       "    .dataframe tbody tr th {\n",
       "        vertical-align: top;\n",
       "    }\n",
       "\n",
       "    .dataframe thead th {\n",
       "        text-align: right;\n",
       "    }\n",
       "</style>\n",
       "<table border=\"1\" class=\"dataframe\">\n",
       "  <thead>\n",
       "    <tr style=\"text-align: right;\">\n",
       "      <th></th>\n",
       "      <th>full_link</th>\n",
       "      <th>created_utc</th>\n",
       "      <th>title</th>\n",
       "      <th>url</th>\n",
       "      <th>selftext</th>\n",
       "      <th>compound</th>\n",
       "      <th>num_positive</th>\n",
       "      <th>num_neutral</th>\n",
       "      <th>num_negative</th>\n",
       "    </tr>\n",
       "  </thead>\n",
       "  <tbody>\n",
       "  </tbody>\n",
       "</table>\n",
       "</div>"
      ],
      "text/plain": [
       "Empty DataFrame\n",
       "Columns: [full_link, created_utc, title, url, selftext, compound, num_positive, num_neutral, num_negative]\n",
       "Index: []"
      ]
     },
     "execution_count": 10,
     "metadata": {},
     "output_type": "execute_result"
    }
   ],
   "source": [
    "df[df['selftext'].isnull()]"
   ]
  },
  {
   "cell_type": "code",
   "execution_count": 11,
   "metadata": {},
   "outputs": [
    {
     "data": {
      "text/html": [
       "<div>\n",
       "<style scoped>\n",
       "    .dataframe tbody tr th:only-of-type {\n",
       "        vertical-align: middle;\n",
       "    }\n",
       "\n",
       "    .dataframe tbody tr th {\n",
       "        vertical-align: top;\n",
       "    }\n",
       "\n",
       "    .dataframe thead th {\n",
       "        text-align: right;\n",
       "    }\n",
       "</style>\n",
       "<table border=\"1\" class=\"dataframe\">\n",
       "  <thead>\n",
       "    <tr style=\"text-align: right;\">\n",
       "      <th></th>\n",
       "      <th>full_link</th>\n",
       "      <th>created_utc</th>\n",
       "      <th>title</th>\n",
       "      <th>url</th>\n",
       "      <th>selftext</th>\n",
       "      <th>compound</th>\n",
       "      <th>num_positive</th>\n",
       "      <th>num_neutral</th>\n",
       "      <th>num_negative</th>\n",
       "    </tr>\n",
       "  </thead>\n",
       "  <tbody>\n",
       "  </tbody>\n",
       "</table>\n",
       "</div>"
      ],
      "text/plain": [
       "Empty DataFrame\n",
       "Columns: [full_link, created_utc, title, url, selftext, compound, num_positive, num_neutral, num_negative]\n",
       "Index: []"
      ]
     },
     "execution_count": 11,
     "metadata": {},
     "output_type": "execute_result"
    }
   ],
   "source": [
    "df[df['title'].isnull()]"
   ]
  },
  {
   "cell_type": "code",
   "execution_count": 12,
   "metadata": {},
   "outputs": [
    {
     "data": {
      "text/html": [
       "<div>\n",
       "<style scoped>\n",
       "    .dataframe tbody tr th:only-of-type {\n",
       "        vertical-align: middle;\n",
       "    }\n",
       "\n",
       "    .dataframe tbody tr th {\n",
       "        vertical-align: top;\n",
       "    }\n",
       "\n",
       "    .dataframe thead th {\n",
       "        text-align: right;\n",
       "    }\n",
       "</style>\n",
       "<table border=\"1\" class=\"dataframe\">\n",
       "  <thead>\n",
       "    <tr style=\"text-align: right;\">\n",
       "      <th></th>\n",
       "      <th>full_link</th>\n",
       "      <th>created_utc</th>\n",
       "      <th>title</th>\n",
       "      <th>url</th>\n",
       "      <th>selftext</th>\n",
       "      <th>compound</th>\n",
       "      <th>num_positive</th>\n",
       "      <th>num_neutral</th>\n",
       "      <th>num_negative</th>\n",
       "    </tr>\n",
       "  </thead>\n",
       "  <tbody>\n",
       "  </tbody>\n",
       "</table>\n",
       "</div>"
      ],
      "text/plain": [
       "Empty DataFrame\n",
       "Columns: [full_link, created_utc, title, url, selftext, compound, num_positive, num_neutral, num_negative]\n",
       "Index: []"
      ]
     },
     "execution_count": 12,
     "metadata": {},
     "output_type": "execute_result"
    }
   ],
   "source": [
    "df[df['full_link'].isnull()]"
   ]
  },
  {
   "cell_type": "code",
   "execution_count": 13,
   "metadata": {},
   "outputs": [
    {
     "data": {
      "text/html": [
       "<div>\n",
       "<style scoped>\n",
       "    .dataframe tbody tr th:only-of-type {\n",
       "        vertical-align: middle;\n",
       "    }\n",
       "\n",
       "    .dataframe tbody tr th {\n",
       "        vertical-align: top;\n",
       "    }\n",
       "\n",
       "    .dataframe thead th {\n",
       "        text-align: right;\n",
       "    }\n",
       "</style>\n",
       "<table border=\"1\" class=\"dataframe\">\n",
       "  <thead>\n",
       "    <tr style=\"text-align: right;\">\n",
       "      <th></th>\n",
       "      <th>full_link</th>\n",
       "      <th>created_utc</th>\n",
       "      <th>title</th>\n",
       "      <th>url</th>\n",
       "      <th>selftext</th>\n",
       "      <th>compound</th>\n",
       "      <th>num_positive</th>\n",
       "      <th>num_neutral</th>\n",
       "      <th>num_negative</th>\n",
       "    </tr>\n",
       "  </thead>\n",
       "  <tbody>\n",
       "  </tbody>\n",
       "</table>\n",
       "</div>"
      ],
      "text/plain": [
       "Empty DataFrame\n",
       "Columns: [full_link, created_utc, title, url, selftext, compound, num_positive, num_neutral, num_negative]\n",
       "Index: []"
      ]
     },
     "execution_count": 13,
     "metadata": {},
     "output_type": "execute_result"
    }
   ],
   "source": [
    "df[df['url'].isnull()]"
   ]
  },
  {
   "cell_type": "code",
   "execution_count": 14,
   "metadata": {},
   "outputs": [
    {
     "data": {
      "text/html": [
       "<div>\n",
       "<style scoped>\n",
       "    .dataframe tbody tr th:only-of-type {\n",
       "        vertical-align: middle;\n",
       "    }\n",
       "\n",
       "    .dataframe tbody tr th {\n",
       "        vertical-align: top;\n",
       "    }\n",
       "\n",
       "    .dataframe thead th {\n",
       "        text-align: right;\n",
       "    }\n",
       "</style>\n",
       "<table border=\"1\" class=\"dataframe\">\n",
       "  <thead>\n",
       "    <tr style=\"text-align: right;\">\n",
       "      <th></th>\n",
       "      <th>full_link</th>\n",
       "      <th>created_utc</th>\n",
       "      <th>title</th>\n",
       "      <th>url</th>\n",
       "      <th>selftext</th>\n",
       "      <th>compound</th>\n",
       "      <th>num_positive</th>\n",
       "      <th>num_neutral</th>\n",
       "      <th>num_negative</th>\n",
       "    </tr>\n",
       "  </thead>\n",
       "  <tbody>\n",
       "  </tbody>\n",
       "</table>\n",
       "</div>"
      ],
      "text/plain": [
       "Empty DataFrame\n",
       "Columns: [full_link, created_utc, title, url, selftext, compound, num_positive, num_neutral, num_negative]\n",
       "Index: []"
      ]
     },
     "execution_count": 14,
     "metadata": {},
     "output_type": "execute_result"
    }
   ],
   "source": [
    "df[df['num_positive'].isnull()]"
   ]
  },
  {
   "cell_type": "code",
   "execution_count": 15,
   "metadata": {},
   "outputs": [
    {
     "data": {
      "text/html": [
       "<div>\n",
       "<style scoped>\n",
       "    .dataframe tbody tr th:only-of-type {\n",
       "        vertical-align: middle;\n",
       "    }\n",
       "\n",
       "    .dataframe tbody tr th {\n",
       "        vertical-align: top;\n",
       "    }\n",
       "\n",
       "    .dataframe thead th {\n",
       "        text-align: right;\n",
       "    }\n",
       "</style>\n",
       "<table border=\"1\" class=\"dataframe\">\n",
       "  <thead>\n",
       "    <tr style=\"text-align: right;\">\n",
       "      <th></th>\n",
       "      <th>full_link</th>\n",
       "      <th>created_utc</th>\n",
       "      <th>title</th>\n",
       "      <th>url</th>\n",
       "      <th>selftext</th>\n",
       "      <th>compound</th>\n",
       "      <th>num_positive</th>\n",
       "      <th>num_neutral</th>\n",
       "      <th>num_negative</th>\n",
       "    </tr>\n",
       "  </thead>\n",
       "  <tbody>\n",
       "  </tbody>\n",
       "</table>\n",
       "</div>"
      ],
      "text/plain": [
       "Empty DataFrame\n",
       "Columns: [full_link, created_utc, title, url, selftext, compound, num_positive, num_neutral, num_negative]\n",
       "Index: []"
      ]
     },
     "execution_count": 15,
     "metadata": {},
     "output_type": "execute_result"
    }
   ],
   "source": [
    "df[df['num_neutral'].isnull()]"
   ]
  },
  {
   "cell_type": "markdown",
   "metadata": {},
   "source": [
    "It seems there are some inconsistencies from the wrangling. In three rows of the data, the columns starting from url has been shifted to the left. After examining the csv file, I couldn't find the reason for the shift(as other rows share similar structure). Fortunately, there is a simple solution to fix it."
   ]
  },
  {
   "cell_type": "code",
   "execution_count": 16,
   "metadata": {
    "scrolled": false
   },
   "outputs": [
    {
     "data": {
      "text/html": [
       "<div>\n",
       "<style scoped>\n",
       "    .dataframe tbody tr th:only-of-type {\n",
       "        vertical-align: middle;\n",
       "    }\n",
       "\n",
       "    .dataframe tbody tr th {\n",
       "        vertical-align: top;\n",
       "    }\n",
       "\n",
       "    .dataframe thead th {\n",
       "        text-align: right;\n",
       "    }\n",
       "</style>\n",
       "<table border=\"1\" class=\"dataframe\">\n",
       "  <thead>\n",
       "    <tr style=\"text-align: right;\">\n",
       "      <th></th>\n",
       "      <th>full_link</th>\n",
       "      <th>created_utc</th>\n",
       "      <th>title</th>\n",
       "      <th>url</th>\n",
       "      <th>selftext</th>\n",
       "      <th>compound</th>\n",
       "      <th>num_positive</th>\n",
       "      <th>num_neutral</th>\n",
       "      <th>num_negative</th>\n",
       "    </tr>\n",
       "  </thead>\n",
       "  <tbody>\n",
       "    <tr>\n",
       "      <th>5883</th>\n",
       "      <td>https://www.reddit.com/r/HongKong/comments/2g2...</td>\n",
       "      <td>1410402551</td>\n",
       "      <td>Beijing official to HK democrats: “That you're...</td>\n",
       "      <td>None</td>\n",
       "      <td>-0.057977777777777774</td>\n",
       "      <td>8.0</td>\n",
       "      <td>8</td>\n",
       "      <td>11</td>\n",
       "      <td>NaN</td>\n",
       "    </tr>\n",
       "    <tr>\n",
       "      <th>12153</th>\n",
       "      <td>https://www.reddit.com/r/HongKong/comments/50f...</td>\n",
       "      <td>1472622247</td>\n",
       "      <td>Anson Chan speech: “The frustration on the par...</td>\n",
       "      <td>None</td>\n",
       "      <td>-0.18162666666666666</td>\n",
       "      <td>4.0</td>\n",
       "      <td>3</td>\n",
       "      <td>8</td>\n",
       "      <td>NaN</td>\n",
       "    </tr>\n",
       "    <tr>\n",
       "      <th>16958</th>\n",
       "      <td>https://www.reddit.com/r/HongKong/comments/8pz...</td>\n",
       "      <td>1528618523</td>\n",
       "      <td>In an article, SCMP publishes a map in Simplif...</td>\n",
       "      <td>None</td>\n",
       "      <td>-0.206925</td>\n",
       "      <td>1.0</td>\n",
       "      <td>4</td>\n",
       "      <td>3</td>\n",
       "      <td>NaN</td>\n",
       "    </tr>\n",
       "  </tbody>\n",
       "</table>\n",
       "</div>"
      ],
      "text/plain": [
       "                                               full_link  created_utc  \\\n",
       "5883   https://www.reddit.com/r/HongKong/comments/2g2...   1410402551   \n",
       "12153  https://www.reddit.com/r/HongKong/comments/50f...   1472622247   \n",
       "16958  https://www.reddit.com/r/HongKong/comments/8pz...   1528618523   \n",
       "\n",
       "                                                   title   url  \\\n",
       "5883   Beijing official to HK democrats: “That you're...  None   \n",
       "12153  Anson Chan speech: “The frustration on the par...  None   \n",
       "16958  In an article, SCMP publishes a map in Simplif...  None   \n",
       "\n",
       "                    selftext  compound  num_positive  num_neutral  \\\n",
       "5883   -0.057977777777777774       8.0             8           11   \n",
       "12153   -0.18162666666666666       4.0             3            8   \n",
       "16958              -0.206925       1.0             4            3   \n",
       "\n",
       "       num_negative  \n",
       "5883            NaN  \n",
       "12153           NaN  \n",
       "16958           NaN  "
      ]
     },
     "execution_count": 16,
     "metadata": {},
     "output_type": "execute_result"
    }
   ],
   "source": [
    "df[df['num_negative'].isnull()]"
   ]
  },
  {
   "cell_type": "markdown",
   "metadata": {},
   "source": [
    "At the end of the selftext sentence, there are double quotes. By removing one of them it will rectify the shift.   "
   ]
  },
  {
   "cell_type": "code",
   "execution_count": 17,
   "metadata": {},
   "outputs": [],
   "source": [
    "#Read the csv file and output changes into a new csv file\n",
    "with open('sentiment.csv', 'r', encoding=\"utf-8\") as input_file, open('sentiment_adj.csv', 'w', encoding=\"utf-8\") as output_file:\n",
    "    for i, line in enumerate(input_file):\n",
    "        if i in (5884, 12155, 16960):\n",
    "            list_of_words = line.split('\\t')\n",
    "            length_of_word = len(list_of_words[2])\n",
    "            list_of_words[2] = '\"' + list_of_words[2][1:length_of_word-3] + '\"'\n",
    "            output_file.write(\"\\t\".join(list_of_words))\n",
    "        else:\n",
    "            output_file.write(line)"
   ]
  },
  {
   "cell_type": "markdown",
   "metadata": {},
   "source": [
    "## Read csv file into Pandas DataFrame (again)"
   ]
  },
  {
   "cell_type": "code",
   "execution_count": 18,
   "metadata": {
    "scrolled": true
   },
   "outputs": [],
   "source": [
    "df = pd.read_csv('sentiment_adj.csv', encoding=\"utf-8\", sep='\\t' , index_col=False)"
   ]
  },
  {
   "cell_type": "code",
   "execution_count": 19,
   "metadata": {},
   "outputs": [],
   "source": [
    "#extract year from epoch timestamp\n",
    "df['year'] = pd.to_datetime(df['created_utc'],unit='s').dt.year\n",
    "#drop column\n",
    "df.drop(['created_utc'], axis=1, inplace=True)"
   ]
  },
  {
   "cell_type": "code",
   "execution_count": 20,
   "metadata": {},
   "outputs": [],
   "source": [
    "#rename column to title\n",
    "df.rename(columns={\"i\": \"title\"}, inplace = True)"
   ]
  },
  {
   "cell_type": "code",
   "execution_count": 21,
   "metadata": {},
   "outputs": [
    {
     "data": {
      "text/html": [
       "<div>\n",
       "<style scoped>\n",
       "    .dataframe tbody tr th:only-of-type {\n",
       "        vertical-align: middle;\n",
       "    }\n",
       "\n",
       "    .dataframe tbody tr th {\n",
       "        vertical-align: top;\n",
       "    }\n",
       "\n",
       "    .dataframe thead th {\n",
       "        text-align: right;\n",
       "    }\n",
       "</style>\n",
       "<table border=\"1\" class=\"dataframe\">\n",
       "  <thead>\n",
       "    <tr style=\"text-align: right;\">\n",
       "      <th></th>\n",
       "      <th>full_link</th>\n",
       "      <th>title</th>\n",
       "      <th>url</th>\n",
       "      <th>selftext</th>\n",
       "      <th>compound</th>\n",
       "      <th>num_positive</th>\n",
       "      <th>num_neutral</th>\n",
       "      <th>num_negative</th>\n",
       "      <th>year</th>\n",
       "    </tr>\n",
       "  </thead>\n",
       "  <tbody>\n",
       "    <tr>\n",
       "      <th>0</th>\n",
       "      <td>https://www.reddit.com/r/HongKong/comments/ce8...</td>\n",
       "      <td>Anyone up for the Reddit Meetup next Saturday ...</td>\n",
       "      <td>http://www.reddit.com/r/HongKong/comments/ce8z...</td>\n",
       "      <td>so far there are 2 people who are thinking abo...</td>\n",
       "      <td>0.554533</td>\n",
       "      <td>3</td>\n",
       "      <td>0</td>\n",
       "      <td>0</td>\n",
       "      <td>2010</td>\n",
       "    </tr>\n",
       "    <tr>\n",
       "      <th>1</th>\n",
       "      <td>https://www.reddit.com/r/HongKong/comments/dfx...</td>\n",
       "      <td>Any redditors in Hong Kong?</td>\n",
       "      <td>http://www.reddit.com/r/HongKong/comments/dfx9...</td>\n",
       "      <td>I am doing an internship at the US consulate f...</td>\n",
       "      <td>0.327487</td>\n",
       "      <td>13</td>\n",
       "      <td>10</td>\n",
       "      <td>1</td>\n",
       "      <td>2010</td>\n",
       "    </tr>\n",
       "    <tr>\n",
       "      <th>2</th>\n",
       "      <td>https://www.reddit.com/r/HongKong/comments/di5...</td>\n",
       "      <td>48 hour film project... anyone doing this?</td>\n",
       "      <td>http://www.48hourfilm.com/hongkong/english.php</td>\n",
       "      <td>None</td>\n",
       "      <td>0.373017</td>\n",
       "      <td>5</td>\n",
       "      <td>1</td>\n",
       "      <td>0</td>\n",
       "      <td>2010</td>\n",
       "    </tr>\n",
       "    <tr>\n",
       "      <th>3</th>\n",
       "      <td>https://www.reddit.com/r/HongKong/comments/dsm...</td>\n",
       "      <td>/r/hk, I was on YouTube when I was reminded of...</td>\n",
       "      <td>http://www.youtube.com/watch?v=5ZdEyK1rC8c</td>\n",
       "      <td>None</td>\n",
       "      <td>0.143600</td>\n",
       "      <td>1</td>\n",
       "      <td>1</td>\n",
       "      <td>1</td>\n",
       "      <td>2010</td>\n",
       "    </tr>\n",
       "    <tr>\n",
       "      <th>4</th>\n",
       "      <td>https://www.reddit.com/r/HongKong/comments/dzz...</td>\n",
       "      <td>Watch out: Predators on the Hong Kong MTR?</td>\n",
       "      <td>http://www.reddit.com/r/HongKong/comments/dzzu...</td>\n",
       "      <td>...cross posted from [/r/pics](http://www.redd...</td>\n",
       "      <td>0.472800</td>\n",
       "      <td>2</td>\n",
       "      <td>1</td>\n",
       "      <td>0</td>\n",
       "      <td>2010</td>\n",
       "    </tr>\n",
       "  </tbody>\n",
       "</table>\n",
       "</div>"
      ],
      "text/plain": [
       "                                           full_link  \\\n",
       "0  https://www.reddit.com/r/HongKong/comments/ce8...   \n",
       "1  https://www.reddit.com/r/HongKong/comments/dfx...   \n",
       "2  https://www.reddit.com/r/HongKong/comments/di5...   \n",
       "3  https://www.reddit.com/r/HongKong/comments/dsm...   \n",
       "4  https://www.reddit.com/r/HongKong/comments/dzz...   \n",
       "\n",
       "                                               title  \\\n",
       "0  Anyone up for the Reddit Meetup next Saturday ...   \n",
       "1                        Any redditors in Hong Kong?   \n",
       "2         48 hour film project... anyone doing this?   \n",
       "3  /r/hk, I was on YouTube when I was reminded of...   \n",
       "4         Watch out: Predators on the Hong Kong MTR?   \n",
       "\n",
       "                                                 url  \\\n",
       "0  http://www.reddit.com/r/HongKong/comments/ce8z...   \n",
       "1  http://www.reddit.com/r/HongKong/comments/dfx9...   \n",
       "2     http://www.48hourfilm.com/hongkong/english.php   \n",
       "3         http://www.youtube.com/watch?v=5ZdEyK1rC8c   \n",
       "4  http://www.reddit.com/r/HongKong/comments/dzzu...   \n",
       "\n",
       "                                            selftext  compound  num_positive  \\\n",
       "0  so far there are 2 people who are thinking abo...  0.554533             3   \n",
       "1  I am doing an internship at the US consulate f...  0.327487            13   \n",
       "2                                               None  0.373017             5   \n",
       "3                                               None  0.143600             1   \n",
       "4  ...cross posted from [/r/pics](http://www.redd...  0.472800             2   \n",
       "\n",
       "   num_neutral  num_negative  year  \n",
       "0            0             0  2010  \n",
       "1           10             1  2010  \n",
       "2            1             0  2010  \n",
       "3            1             1  2010  \n",
       "4            1             0  2010  "
      ]
     },
     "execution_count": 21,
     "metadata": {},
     "output_type": "execute_result"
    }
   ],
   "source": [
    "df.head()"
   ]
  },
  {
   "cell_type": "markdown",
   "metadata": {},
   "source": [
    "### Re-check Data"
   ]
  },
  {
   "cell_type": "code",
   "execution_count": 22,
   "metadata": {},
   "outputs": [
    {
     "data": {
      "text/html": [
       "<div>\n",
       "<style scoped>\n",
       "    .dataframe tbody tr th:only-of-type {\n",
       "        vertical-align: middle;\n",
       "    }\n",
       "\n",
       "    .dataframe tbody tr th {\n",
       "        vertical-align: top;\n",
       "    }\n",
       "\n",
       "    .dataframe thead th {\n",
       "        text-align: right;\n",
       "    }\n",
       "</style>\n",
       "<table border=\"1\" class=\"dataframe\">\n",
       "  <thead>\n",
       "    <tr style=\"text-align: right;\">\n",
       "      <th></th>\n",
       "      <th>full_link</th>\n",
       "      <th>title</th>\n",
       "      <th>url</th>\n",
       "      <th>selftext</th>\n",
       "      <th>compound</th>\n",
       "      <th>num_positive</th>\n",
       "      <th>num_neutral</th>\n",
       "      <th>num_negative</th>\n",
       "      <th>year</th>\n",
       "    </tr>\n",
       "  </thead>\n",
       "  <tbody>\n",
       "  </tbody>\n",
       "</table>\n",
       "</div>"
      ],
      "text/plain": [
       "Empty DataFrame\n",
       "Columns: [full_link, title, url, selftext, compound, num_positive, num_neutral, num_negative, year]\n",
       "Index: []"
      ]
     },
     "execution_count": 22,
     "metadata": {},
     "output_type": "execute_result"
    }
   ],
   "source": [
    "df[df['year'].isnull()]"
   ]
  },
  {
   "cell_type": "code",
   "execution_count": 23,
   "metadata": {},
   "outputs": [
    {
     "data": {
      "text/html": [
       "<div>\n",
       "<style scoped>\n",
       "    .dataframe tbody tr th:only-of-type {\n",
       "        vertical-align: middle;\n",
       "    }\n",
       "\n",
       "    .dataframe tbody tr th {\n",
       "        vertical-align: top;\n",
       "    }\n",
       "\n",
       "    .dataframe thead th {\n",
       "        text-align: right;\n",
       "    }\n",
       "</style>\n",
       "<table border=\"1\" class=\"dataframe\">\n",
       "  <thead>\n",
       "    <tr style=\"text-align: right;\">\n",
       "      <th></th>\n",
       "      <th>full_link</th>\n",
       "      <th>title</th>\n",
       "      <th>url</th>\n",
       "      <th>selftext</th>\n",
       "      <th>compound</th>\n",
       "      <th>num_positive</th>\n",
       "      <th>num_neutral</th>\n",
       "      <th>num_negative</th>\n",
       "      <th>year</th>\n",
       "    </tr>\n",
       "  </thead>\n",
       "  <tbody>\n",
       "  </tbody>\n",
       "</table>\n",
       "</div>"
      ],
      "text/plain": [
       "Empty DataFrame\n",
       "Columns: [full_link, title, url, selftext, compound, num_positive, num_neutral, num_negative, year]\n",
       "Index: []"
      ]
     },
     "execution_count": 23,
     "metadata": {},
     "output_type": "execute_result"
    }
   ],
   "source": [
    "df[df['compound'].isnull()]"
   ]
  },
  {
   "cell_type": "code",
   "execution_count": 24,
   "metadata": {},
   "outputs": [
    {
     "data": {
      "text/html": [
       "<div>\n",
       "<style scoped>\n",
       "    .dataframe tbody tr th:only-of-type {\n",
       "        vertical-align: middle;\n",
       "    }\n",
       "\n",
       "    .dataframe tbody tr th {\n",
       "        vertical-align: top;\n",
       "    }\n",
       "\n",
       "    .dataframe thead th {\n",
       "        text-align: right;\n",
       "    }\n",
       "</style>\n",
       "<table border=\"1\" class=\"dataframe\">\n",
       "  <thead>\n",
       "    <tr style=\"text-align: right;\">\n",
       "      <th></th>\n",
       "      <th>full_link</th>\n",
       "      <th>title</th>\n",
       "      <th>url</th>\n",
       "      <th>selftext</th>\n",
       "      <th>compound</th>\n",
       "      <th>num_positive</th>\n",
       "      <th>num_neutral</th>\n",
       "      <th>num_negative</th>\n",
       "      <th>year</th>\n",
       "    </tr>\n",
       "  </thead>\n",
       "  <tbody>\n",
       "  </tbody>\n",
       "</table>\n",
       "</div>"
      ],
      "text/plain": [
       "Empty DataFrame\n",
       "Columns: [full_link, title, url, selftext, compound, num_positive, num_neutral, num_negative, year]\n",
       "Index: []"
      ]
     },
     "execution_count": 24,
     "metadata": {},
     "output_type": "execute_result"
    }
   ],
   "source": [
    "df[df['selftext'].isnull()]"
   ]
  },
  {
   "cell_type": "code",
   "execution_count": 25,
   "metadata": {
    "scrolled": true
   },
   "outputs": [
    {
     "data": {
      "text/html": [
       "<div>\n",
       "<style scoped>\n",
       "    .dataframe tbody tr th:only-of-type {\n",
       "        vertical-align: middle;\n",
       "    }\n",
       "\n",
       "    .dataframe tbody tr th {\n",
       "        vertical-align: top;\n",
       "    }\n",
       "\n",
       "    .dataframe thead th {\n",
       "        text-align: right;\n",
       "    }\n",
       "</style>\n",
       "<table border=\"1\" class=\"dataframe\">\n",
       "  <thead>\n",
       "    <tr style=\"text-align: right;\">\n",
       "      <th></th>\n",
       "      <th>full_link</th>\n",
       "      <th>title</th>\n",
       "      <th>url</th>\n",
       "      <th>selftext</th>\n",
       "      <th>compound</th>\n",
       "      <th>num_positive</th>\n",
       "      <th>num_neutral</th>\n",
       "      <th>num_negative</th>\n",
       "      <th>year</th>\n",
       "    </tr>\n",
       "  </thead>\n",
       "  <tbody>\n",
       "  </tbody>\n",
       "</table>\n",
       "</div>"
      ],
      "text/plain": [
       "Empty DataFrame\n",
       "Columns: [full_link, title, url, selftext, compound, num_positive, num_neutral, num_negative, year]\n",
       "Index: []"
      ]
     },
     "execution_count": 25,
     "metadata": {},
     "output_type": "execute_result"
    }
   ],
   "source": [
    "df[df['title'].isnull()]"
   ]
  },
  {
   "cell_type": "code",
   "execution_count": 26,
   "metadata": {},
   "outputs": [
    {
     "data": {
      "text/html": [
       "<div>\n",
       "<style scoped>\n",
       "    .dataframe tbody tr th:only-of-type {\n",
       "        vertical-align: middle;\n",
       "    }\n",
       "\n",
       "    .dataframe tbody tr th {\n",
       "        vertical-align: top;\n",
       "    }\n",
       "\n",
       "    .dataframe thead th {\n",
       "        text-align: right;\n",
       "    }\n",
       "</style>\n",
       "<table border=\"1\" class=\"dataframe\">\n",
       "  <thead>\n",
       "    <tr style=\"text-align: right;\">\n",
       "      <th></th>\n",
       "      <th>full_link</th>\n",
       "      <th>title</th>\n",
       "      <th>url</th>\n",
       "      <th>selftext</th>\n",
       "      <th>compound</th>\n",
       "      <th>num_positive</th>\n",
       "      <th>num_neutral</th>\n",
       "      <th>num_negative</th>\n",
       "      <th>year</th>\n",
       "    </tr>\n",
       "  </thead>\n",
       "  <tbody>\n",
       "  </tbody>\n",
       "</table>\n",
       "</div>"
      ],
      "text/plain": [
       "Empty DataFrame\n",
       "Columns: [full_link, title, url, selftext, compound, num_positive, num_neutral, num_negative, year]\n",
       "Index: []"
      ]
     },
     "execution_count": 26,
     "metadata": {},
     "output_type": "execute_result"
    }
   ],
   "source": [
    "df[df['full_link'].isnull()]"
   ]
  },
  {
   "cell_type": "code",
   "execution_count": 27,
   "metadata": {},
   "outputs": [
    {
     "data": {
      "text/html": [
       "<div>\n",
       "<style scoped>\n",
       "    .dataframe tbody tr th:only-of-type {\n",
       "        vertical-align: middle;\n",
       "    }\n",
       "\n",
       "    .dataframe tbody tr th {\n",
       "        vertical-align: top;\n",
       "    }\n",
       "\n",
       "    .dataframe thead th {\n",
       "        text-align: right;\n",
       "    }\n",
       "</style>\n",
       "<table border=\"1\" class=\"dataframe\">\n",
       "  <thead>\n",
       "    <tr style=\"text-align: right;\">\n",
       "      <th></th>\n",
       "      <th>full_link</th>\n",
       "      <th>title</th>\n",
       "      <th>url</th>\n",
       "      <th>selftext</th>\n",
       "      <th>compound</th>\n",
       "      <th>num_positive</th>\n",
       "      <th>num_neutral</th>\n",
       "      <th>num_negative</th>\n",
       "      <th>year</th>\n",
       "    </tr>\n",
       "  </thead>\n",
       "  <tbody>\n",
       "  </tbody>\n",
       "</table>\n",
       "</div>"
      ],
      "text/plain": [
       "Empty DataFrame\n",
       "Columns: [full_link, title, url, selftext, compound, num_positive, num_neutral, num_negative, year]\n",
       "Index: []"
      ]
     },
     "execution_count": 27,
     "metadata": {},
     "output_type": "execute_result"
    }
   ],
   "source": [
    "df[df['url'].isnull()]"
   ]
  },
  {
   "cell_type": "code",
   "execution_count": 28,
   "metadata": {},
   "outputs": [
    {
     "data": {
      "text/html": [
       "<div>\n",
       "<style scoped>\n",
       "    .dataframe tbody tr th:only-of-type {\n",
       "        vertical-align: middle;\n",
       "    }\n",
       "\n",
       "    .dataframe tbody tr th {\n",
       "        vertical-align: top;\n",
       "    }\n",
       "\n",
       "    .dataframe thead th {\n",
       "        text-align: right;\n",
       "    }\n",
       "</style>\n",
       "<table border=\"1\" class=\"dataframe\">\n",
       "  <thead>\n",
       "    <tr style=\"text-align: right;\">\n",
       "      <th></th>\n",
       "      <th>full_link</th>\n",
       "      <th>title</th>\n",
       "      <th>url</th>\n",
       "      <th>selftext</th>\n",
       "      <th>compound</th>\n",
       "      <th>num_positive</th>\n",
       "      <th>num_neutral</th>\n",
       "      <th>num_negative</th>\n",
       "      <th>year</th>\n",
       "    </tr>\n",
       "  </thead>\n",
       "  <tbody>\n",
       "  </tbody>\n",
       "</table>\n",
       "</div>"
      ],
      "text/plain": [
       "Empty DataFrame\n",
       "Columns: [full_link, title, url, selftext, compound, num_positive, num_neutral, num_negative, year]\n",
       "Index: []"
      ]
     },
     "execution_count": 28,
     "metadata": {},
     "output_type": "execute_result"
    }
   ],
   "source": [
    "df[df['num_positive'].isnull()]"
   ]
  },
  {
   "cell_type": "code",
   "execution_count": 29,
   "metadata": {},
   "outputs": [
    {
     "data": {
      "text/html": [
       "<div>\n",
       "<style scoped>\n",
       "    .dataframe tbody tr th:only-of-type {\n",
       "        vertical-align: middle;\n",
       "    }\n",
       "\n",
       "    .dataframe tbody tr th {\n",
       "        vertical-align: top;\n",
       "    }\n",
       "\n",
       "    .dataframe thead th {\n",
       "        text-align: right;\n",
       "    }\n",
       "</style>\n",
       "<table border=\"1\" class=\"dataframe\">\n",
       "  <thead>\n",
       "    <tr style=\"text-align: right;\">\n",
       "      <th></th>\n",
       "      <th>full_link</th>\n",
       "      <th>title</th>\n",
       "      <th>url</th>\n",
       "      <th>selftext</th>\n",
       "      <th>compound</th>\n",
       "      <th>num_positive</th>\n",
       "      <th>num_neutral</th>\n",
       "      <th>num_negative</th>\n",
       "      <th>year</th>\n",
       "    </tr>\n",
       "  </thead>\n",
       "  <tbody>\n",
       "  </tbody>\n",
       "</table>\n",
       "</div>"
      ],
      "text/plain": [
       "Empty DataFrame\n",
       "Columns: [full_link, title, url, selftext, compound, num_positive, num_neutral, num_negative, year]\n",
       "Index: []"
      ]
     },
     "execution_count": 29,
     "metadata": {},
     "output_type": "execute_result"
    }
   ],
   "source": [
    "df[df['num_neutral'].isnull()]"
   ]
  },
  {
   "cell_type": "markdown",
   "metadata": {},
   "source": [
    "Problem Solved."
   ]
  },
  {
   "cell_type": "code",
   "execution_count": 30,
   "metadata": {
    "scrolled": true
   },
   "outputs": [
    {
     "data": {
      "text/html": [
       "<div>\n",
       "<style scoped>\n",
       "    .dataframe tbody tr th:only-of-type {\n",
       "        vertical-align: middle;\n",
       "    }\n",
       "\n",
       "    .dataframe tbody tr th {\n",
       "        vertical-align: top;\n",
       "    }\n",
       "\n",
       "    .dataframe thead th {\n",
       "        text-align: right;\n",
       "    }\n",
       "</style>\n",
       "<table border=\"1\" class=\"dataframe\">\n",
       "  <thead>\n",
       "    <tr style=\"text-align: right;\">\n",
       "      <th></th>\n",
       "      <th>full_link</th>\n",
       "      <th>title</th>\n",
       "      <th>url</th>\n",
       "      <th>selftext</th>\n",
       "      <th>compound</th>\n",
       "      <th>num_positive</th>\n",
       "      <th>num_neutral</th>\n",
       "      <th>num_negative</th>\n",
       "      <th>year</th>\n",
       "    </tr>\n",
       "  </thead>\n",
       "  <tbody>\n",
       "  </tbody>\n",
       "</table>\n",
       "</div>"
      ],
      "text/plain": [
       "Empty DataFrame\n",
       "Columns: [full_link, title, url, selftext, compound, num_positive, num_neutral, num_negative, year]\n",
       "Index: []"
      ]
     },
     "execution_count": 30,
     "metadata": {},
     "output_type": "execute_result"
    }
   ],
   "source": [
    "df[df['num_negative'].isnull()]"
   ]
  },
  {
   "cell_type": "markdown",
   "metadata": {},
   "source": [
    "## Visualize the overall Sentiment of HK reddit\n",
    "Let's take a look at the overall trend in sentiment of Hong Kong reddit."
   ]
  },
  {
   "cell_type": "code",
   "execution_count": 31,
   "metadata": {
    "scrolled": true
   },
   "outputs": [],
   "source": [
    "#group by year and sum all comments by sentiment\n",
    "df_gp_year = df.groupby(['year']).sum()"
   ]
  },
  {
   "cell_type": "code",
   "execution_count": 32,
   "metadata": {},
   "outputs": [
    {
     "name": "stdout",
     "output_type": "stream",
     "text": [
      "High five! You successfully sent some data to your account on plotly. View your plot in your browser at https://plot.ly/~lawko698/0 or inside your plot.ly account where it is named 'grouped-bar'\n"
     ]
    },
    {
     "data": {
      "text/html": [
       "<iframe id=\"igraph\" scrolling=\"no\" style=\"border:none;\" seamless=\"seamless\" src=\"https://plot.ly/~lawko698/0.embed\" height=\"525px\" width=\"100%\"></iframe>"
      ],
      "text/plain": [
       "<plotly.tools.PlotlyDisplay object>"
      ]
     },
     "execution_count": 32,
     "metadata": {},
     "output_type": "execute_result"
    }
   ],
   "source": [
    "trace1 = go.Bar(\n",
    "    x=df_gp_year.index,\n",
    "    y=df_gp_year['num_negative'],\n",
    "    name='negative'\n",
    ")\n",
    "trace2 = go.Bar(\n",
    "    x=df_gp_year.index,\n",
    "    y=df_gp_year['num_neutral'],\n",
    "    name='neutral'\n",
    ")\n",
    "trace3 = go.Bar(\n",
    "    x=df_gp_year.index,\n",
    "    y=df_gp_year['num_positive'],\n",
    "    name='positive'\n",
    ")\n",
    "data = [trace1, trace2, trace3]\n",
    "layout = go.Layout(\n",
    "    barmode='group'\n",
    ")\n",
    "\n",
    "fig = go.Figure(data=data, layout=layout)\n",
    "py.iplot(fig, filename='grouped-bar')"
   ]
  },
  {
   "cell_type": "markdown",
   "metadata": {},
   "source": [
    "## Focus on Media Posts\n",
    "\n",
    "There are a range of subjects discussed on reddit from visiting Hong Kong to asking for advice about living in Hong Kong, but these are mundane topics. Lately, Hong Kong current events have become more political after the event of occupy central. Questions such as, what is the most widely discussed news article? How does the community feel about the outcome/event? \n",
    "\n",
    "Since we are interested in redditor's sentiment to current events in Hong Kong, we will filter posts that only include links to news article."
   ]
  },
  {
   "cell_type": "code",
   "execution_count": 33,
   "metadata": {},
   "outputs": [
    {
     "data": {
      "text/html": [
       "<div>\n",
       "<style scoped>\n",
       "    .dataframe tbody tr th:only-of-type {\n",
       "        vertical-align: middle;\n",
       "    }\n",
       "\n",
       "    .dataframe tbody tr th {\n",
       "        vertical-align: top;\n",
       "    }\n",
       "\n",
       "    .dataframe thead th {\n",
       "        text-align: right;\n",
       "    }\n",
       "</style>\n",
       "<table border=\"1\" class=\"dataframe\">\n",
       "  <thead>\n",
       "    <tr style=\"text-align: right;\">\n",
       "      <th></th>\n",
       "      <th>full_link</th>\n",
       "      <th>title</th>\n",
       "      <th>url</th>\n",
       "      <th>selftext</th>\n",
       "      <th>compound</th>\n",
       "      <th>num_positive</th>\n",
       "      <th>num_neutral</th>\n",
       "      <th>num_negative</th>\n",
       "      <th>year</th>\n",
       "    </tr>\n",
       "  </thead>\n",
       "  <tbody>\n",
       "    <tr>\n",
       "      <th>0</th>\n",
       "      <td>https://www.reddit.com/r/HongKong/comments/di5...</td>\n",
       "      <td>48 hour film project... anyone doing this?</td>\n",
       "      <td>http://www.48hourfilm.com/hongkong/english.php</td>\n",
       "      <td>None</td>\n",
       "      <td>0.373017</td>\n",
       "      <td>5</td>\n",
       "      <td>1</td>\n",
       "      <td>0</td>\n",
       "      <td>2010</td>\n",
       "    </tr>\n",
       "    <tr>\n",
       "      <th>1</th>\n",
       "      <td>https://www.reddit.com/r/HongKong/comments/dsm...</td>\n",
       "      <td>/r/hk, I was on YouTube when I was reminded of...</td>\n",
       "      <td>http://www.youtube.com/watch?v=5ZdEyK1rC8c</td>\n",
       "      <td>None</td>\n",
       "      <td>0.143600</td>\n",
       "      <td>1</td>\n",
       "      <td>1</td>\n",
       "      <td>1</td>\n",
       "      <td>2010</td>\n",
       "    </tr>\n",
       "    <tr>\n",
       "      <th>2</th>\n",
       "      <td>https://www.reddit.com/r/HongKong/comments/e7e...</td>\n",
       "      <td>Yesterday in Times Square. I'm sorry, I didn't...</td>\n",
       "      <td>http://imgur.com/emu6m.jpg</td>\n",
       "      <td>None</td>\n",
       "      <td>0.000000</td>\n",
       "      <td>0</td>\n",
       "      <td>1</td>\n",
       "      <td>0</td>\n",
       "      <td>2010</td>\n",
       "    </tr>\n",
       "    <tr>\n",
       "      <th>3</th>\n",
       "      <td>https://www.reddit.com/r/HongKong/comments/e80...</td>\n",
       "      <td>Again??</td>\n",
       "      <td>http://www.bbc.co.uk/news/world-asia-pacific-1...</td>\n",
       "      <td>None</td>\n",
       "      <td>-0.510600</td>\n",
       "      <td>0</td>\n",
       "      <td>0</td>\n",
       "      <td>1</td>\n",
       "      <td>2010</td>\n",
       "    </tr>\n",
       "    <tr>\n",
       "      <th>4</th>\n",
       "      <td>https://www.reddit.com/r/HongKong/comments/e9i...</td>\n",
       "      <td>Free? If I was them, I would've charged $10 fo...</td>\n",
       "      <td>http://imgur.com/TZUVy.jpg</td>\n",
       "      <td>None</td>\n",
       "      <td>0.000000</td>\n",
       "      <td>0</td>\n",
       "      <td>5</td>\n",
       "      <td>0</td>\n",
       "      <td>2010</td>\n",
       "    </tr>\n",
       "  </tbody>\n",
       "</table>\n",
       "</div>"
      ],
      "text/plain": [
       "                                           full_link  \\\n",
       "0  https://www.reddit.com/r/HongKong/comments/di5...   \n",
       "1  https://www.reddit.com/r/HongKong/comments/dsm...   \n",
       "2  https://www.reddit.com/r/HongKong/comments/e7e...   \n",
       "3  https://www.reddit.com/r/HongKong/comments/e80...   \n",
       "4  https://www.reddit.com/r/HongKong/comments/e9i...   \n",
       "\n",
       "                                               title  \\\n",
       "0         48 hour film project... anyone doing this?   \n",
       "1  /r/hk, I was on YouTube when I was reminded of...   \n",
       "2  Yesterday in Times Square. I'm sorry, I didn't...   \n",
       "3                                           Again??    \n",
       "4  Free? If I was them, I would've charged $10 fo...   \n",
       "\n",
       "                                                 url selftext  compound  \\\n",
       "0     http://www.48hourfilm.com/hongkong/english.php     None  0.373017   \n",
       "1         http://www.youtube.com/watch?v=5ZdEyK1rC8c     None  0.143600   \n",
       "2                         http://imgur.com/emu6m.jpg     None  0.000000   \n",
       "3  http://www.bbc.co.uk/news/world-asia-pacific-1...     None -0.510600   \n",
       "4                         http://imgur.com/TZUVy.jpg     None  0.000000   \n",
       "\n",
       "   num_positive  num_neutral  num_negative  year  \n",
       "0             5            1             0  2010  \n",
       "1             1            1             1  2010  \n",
       "2             0            1             0  2010  \n",
       "3             0            0             1  2010  \n",
       "4             0            5             0  2010  "
      ]
     },
     "execution_count": 33,
     "metadata": {},
     "output_type": "execute_result"
    }
   ],
   "source": [
    "df_media = df[~df[\"url\"].str.contains('reddit', na=False)].reset_index(drop=True)\n",
    "df_media.head()"
   ]
  },
  {
   "cell_type": "code",
   "execution_count": 34,
   "metadata": {},
   "outputs": [],
   "source": [
    "df_media.drop(['selftext'], axis = 1, inplace=True)"
   ]
  },
  {
   "cell_type": "markdown",
   "metadata": {},
   "source": [
    "Currently, we will focus on Hong Kong News outlet. Futher work can be done to analyze overseas news articles."
   ]
  },
  {
   "cell_type": "raw",
   "metadata": {},
   "source": [
    "#American News company\n",
    "nytimes = df_media[df_media[\"url\"].str.contains('www.nytimes.com', na=False)]\n",
    "washingtonpost = df_media[df_media[\"url\"].str.contains('www.washingtonpost.com', na=False)]\n",
    "cnn = df_media[df_media[\"url\"].str.contains('cnn.com', na=False)]\n",
    "huffingtonpost = df_media[df_media[\"url\"].str.contains('huffingtonpost', na=False)]\n",
    "theatlantic = df_media[df_media[\"url\"].str.contains('www.theatlantic.com', na=False)]"
   ]
  },
  {
   "cell_type": "raw",
   "metadata": {},
   "source": [
    "#British News company\n",
    "bbc = df_media[df_media[\"url\"].str.contains('www.bbc.co.uk', na=False)]\n",
    "telegraph = df_media[df_media[\"url\"].str.contains('www.telegraph.co.uk', na=False)]\n",
    "independent = df_media[df_media[\"url\"].str.contains('www.independent.co.uk', na=False)]\n",
    "guardian = df_media[df_media[\"url\"].str.contains('www.guardian.co.uk', na=False)]\n",
    "dailymail = df_media[df_media[\"url\"].str.contains('www.dailymail.co.uk', na=False)]"
   ]
  },
  {
   "cell_type": "markdown",
   "metadata": {},
   "source": [
    "Create new dataframe for analysis.\n",
    "\n",
    "Note: Please ignore the warnings as the following processes do not have a problem with python's copy mechanism."
   ]
  },
  {
   "cell_type": "code",
   "execution_count": 35,
   "metadata": {},
   "outputs": [
    {
     "name": "stderr",
     "output_type": "stream",
     "text": [
      "c:\\users\\lawko698\\documents\\projects\\lib\\site-packages\\pandas\\core\\indexing.py:362: SettingWithCopyWarning:\n",
      "\n",
      "\n",
      "A value is trying to be set on a copy of a slice from a DataFrame.\n",
      "Try using .loc[row_indexer,col_indexer] = value instead\n",
      "\n",
      "See the caveats in the documentation: http://pandas.pydata.org/pandas-docs/stable/indexing.html#indexing-view-versus-copy\n",
      "\n",
      "c:\\users\\lawko698\\documents\\projects\\lib\\site-packages\\pandas\\core\\indexing.py:543: SettingWithCopyWarning:\n",
      "\n",
      "\n",
      "A value is trying to be set on a copy of a slice from a DataFrame.\n",
      "Try using .loc[row_indexer,col_indexer] = value instead\n",
      "\n",
      "See the caveats in the documentation: http://pandas.pydata.org/pandas-docs/stable/indexing.html#indexing-view-versus-copy\n",
      "\n"
     ]
    }
   ],
   "source": [
    "# filter df for scmp articles\n",
    "df_focus_media = df_media[df_media[\"url\"].str.contains('www.scmp.com', na=False)]\n",
    "#create new media label\n",
    "df_focus_media.loc[:,\"media_name\"] = 'scmp'"
   ]
  },
  {
   "cell_type": "code",
   "execution_count": 36,
   "metadata": {},
   "outputs": [
    {
     "name": "stderr",
     "output_type": "stream",
     "text": [
      "c:\\users\\lawko698\\documents\\projects\\lib\\site-packages\\pandas\\core\\indexing.py:362: SettingWithCopyWarning:\n",
      "\n",
      "\n",
      "A value is trying to be set on a copy of a slice from a DataFrame.\n",
      "Try using .loc[row_indexer,col_indexer] = value instead\n",
      "\n",
      "See the caveats in the documentation: http://pandas.pydata.org/pandas-docs/stable/indexing.html#indexing-view-versus-copy\n",
      "\n",
      "c:\\users\\lawko698\\documents\\projects\\lib\\site-packages\\pandas\\core\\indexing.py:543: SettingWithCopyWarning:\n",
      "\n",
      "\n",
      "A value is trying to be set on a copy of a slice from a DataFrame.\n",
      "Try using .loc[row_indexer,col_indexer] = value instead\n",
      "\n",
      "See the caveats in the documentation: http://pandas.pydata.org/pandas-docs/stable/indexing.html#indexing-view-versus-copy\n",
      "\n"
     ]
    }
   ],
   "source": [
    "# continue to append other media posts\n",
    "for media in [('www.hongkongfp.com','hongkongfp'),('http://rthk.hk','rthk'),('www.ejinsight.com','ejinsight'),\n",
    "              ('apple.nextmedia.com','hkdaily'),('thestandard.com.hk','thestandard'),\n",
    "             ('hongwrong.com','hongwrong'),('timeout.com.hk','timeout'),('news.yahoo.com','yahoo')]:\n",
    "    concat_media = df_media[df_media[\"url\"].str.contains(media[0], na=False)]\n",
    "    concat_media.loc[:,\"media_name\"] = media[1]\n",
    "    df_focus_media = pd.concat([df_focus_media, concat_media])"
   ]
  },
  {
   "cell_type": "code",
   "execution_count": 37,
   "metadata": {},
   "outputs": [],
   "source": [
    "#create new ratio attribute of positive to negative comments\n",
    "df_focus_media.loc[:,'pos_neg_ratio'] = (df_focus_media['num_positive'] + 1)/(df_focus_media['num_negative'] + 1)\n",
    "#create new total comments attribute\n",
    "df_focus_media.loc[:,'total_comments'] = (df_focus_media['num_positive'])+(df_focus_media['num_negative'])+(df_focus_media['num_neutral'])"
   ]
  },
  {
   "cell_type": "code",
   "execution_count": 38,
   "metadata": {},
   "outputs": [],
   "source": [
    "#reset the index\n",
    "df_focus_media.reset_index(drop=True, inplace=True)"
   ]
  },
  {
   "cell_type": "code",
   "execution_count": 39,
   "metadata": {},
   "outputs": [],
   "source": [
    "#rearrange data for database upload\n",
    "df_focus_media = df_focus_media.reindex(['media_name','title','full_link','url', 'compound', 'num_positive', 'num_neutral',\n",
    "       'num_negative', 'year', 'pos_neg_ratio','total_comments'],axis=1)"
   ]
  },
  {
   "cell_type": "code",
   "execution_count": 40,
   "metadata": {},
   "outputs": [],
   "source": [
    "# shift index by +1\n",
    "df_focus_media.index += 1"
   ]
  },
  {
   "cell_type": "code",
   "execution_count": 41,
   "metadata": {},
   "outputs": [],
   "source": [
    "# convert field to integer\n",
    "df_focus_media['total_comments'] = df_focus_media['total_comments'].apply(lambda x: int(x))"
   ]
  },
  {
   "cell_type": "code",
   "execution_count": 42,
   "metadata": {},
   "outputs": [],
   "source": [
    "#output df to csv file\n",
    "df_focus_media.to_csv(\"reddit_media.csv\", encoding=\"utf-8\", header=False, sep='\\t')"
   ]
  },
  {
   "cell_type": "markdown",
   "metadata": {},
   "source": [
    " "
   ]
  }
 ],
 "metadata": {
  "kernelspec": {
   "display_name": "Python 3",
   "language": "python",
   "name": "python3"
  },
  "language_info": {
   "codemirror_mode": {
    "name": "ipython",
    "version": 3
   },
   "file_extension": ".py",
   "mimetype": "text/x-python",
   "name": "python",
   "nbconvert_exporter": "python",
   "pygments_lexer": "ipython3",
   "version": "3.7.0"
  }
 },
 "nbformat": 4,
 "nbformat_minor": 2
}
